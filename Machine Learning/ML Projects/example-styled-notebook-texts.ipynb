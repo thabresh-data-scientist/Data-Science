{
 "cells": [
  {
   "cell_type": "markdown",
   "id": "1ba9f057",
   "metadata": {
    "papermill": {
     "duration": 0.007321,
     "end_time": "2023-06-01T09:28:34.855628",
     "exception": false,
     "start_time": "2023-06-01T09:28:34.848307",
     "status": "completed"
    },
    "tags": []
   },
   "source": [
    "<div style=\"padding: 35px;color:white;margin:10;font-size:170%;text-align:left;display:fill;border-radius:10px;overflow:hidden;background-image: url(https://png.pngtree.com/thumb_back/fh260/background/20200714/pngtree-modern-double-color-futuristic-neon-background-image_351866.jpg)\"><b><span style='color:white'>BERT Model for Text Embeddings </span></b> </div>\n",
    "\n",
    "This notebook demonstrates how to use the BERT (Bidirectional Encoder Representations from Transformers) model for text embeddings using the TensorFlow framework. BERT is a pre-trained deep learning model that has achieved state-of-the-art performance on various natural language processing tasks.\n",
    "\n",
    "In this notebook, we will walk through the process of loading the BERT preprocessor and encoder, preprocessing text inputs, passing the inputs through the BERT model, and extracting text embeddings. Text embeddings capture the semantic meaning of words or sentences in a dense vector representation, enabling various downstream tasks such as sentiment analysis, text classification, and information retrieval.\n",
    "\n",
    "# <div style=\"padding: 20px;color:white;margin:10;font-size:90%;text-align:left;display:fill;border-radius:10px;overflow:hidden;background-image: url(https://w0.peakpx.com/wallpaper/957/661/HD-wallpaper-white-marble-white-stone-texture-marble-stone-background-white-stone.jpg)\"><b><span style='color:black'> 1| Install the necessary libraries</span></b> </div>\n",
    "\n",
    "This step installs the required libraries: **TensorFlow, TensorFlow Hub, and TensorFlow Text.** \n",
    "\n",
    "These libraries are necessary for working with the BERT model and performing text embedding tasks."
   ]
  },
  {
   "cell_type": "code",
   "execution_count": 1,
   "id": "6b8cc94f",
   "metadata": {
    "execution": {
     "iopub.execute_input": "2023-06-01T09:28:34.870960Z",
     "iopub.status.busy": "2023-06-01T09:28:34.870580Z",
     "iopub.status.idle": "2023-06-01T09:28:35.968577Z",
     "shell.execute_reply": "2023-06-01T09:28:35.967059Z"
    },
    "papermill": {
     "duration": 1.109035,
     "end_time": "2023-06-01T09:28:35.971558",
     "exception": false,
     "start_time": "2023-06-01T09:28:34.862523",
     "status": "completed"
    },
    "tags": []
   },
   "outputs": [
    {
     "name": "stdout",
     "output_type": "stream",
     "text": [
      "/bin/bash: -c: line 0: unexpected EOF while looking for matching `\"'\r\n",
      "/bin/bash: -c: line 1: syntax error: unexpected end of file\r\n"
     ]
    }
   ],
   "source": [
    "!pip install tensorflow tensorflow_hub tensorflow_text\""
   ]
  },
  {
   "cell_type": "code",
   "execution_count": 2,
   "id": "a27410eb",
   "metadata": {
    "_cell_guid": "b1076dfc-b9ad-4769-8c92-a6c4dae69d19",
    "_uuid": "8f2839f25d086af736a60e9eeb907d3b93b6e0e5",
    "execution": {
     "iopub.execute_input": "2023-06-01T09:28:35.987562Z",
     "iopub.status.busy": "2023-06-01T09:28:35.987091Z",
     "iopub.status.idle": "2023-06-01T09:28:35.992201Z",
     "shell.execute_reply": "2023-06-01T09:28:35.991107Z"
    },
    "papermill": {
     "duration": 0.015988,
     "end_time": "2023-06-01T09:28:35.994571",
     "exception": false,
     "start_time": "2023-06-01T09:28:35.978583",
     "status": "completed"
    },
    "tags": []
   },
   "outputs": [],
   "source": [
    "import numpy as np # linear algebra\n",
    "import pandas as pd # data processing, CSV file I/O (e.g. pd.read_csv)"
   ]
  },
  {
   "cell_type": "markdown",
   "id": "025f6adc",
   "metadata": {
    "papermill": {
     "duration": 0.006738,
     "end_time": "2023-06-01T09:28:36.008259",
     "exception": false,
     "start_time": "2023-06-01T09:28:36.001521",
     "status": "completed"
    },
    "tags": []
   },
   "source": [
    "# <div style=\"padding: 20px;color:white;margin:10;font-size:90%;text-align:left;display:fill;border-radius:10px;overflow:hidden;background-image: url(https://w0.peakpx.com/wallpaper/957/661/HD-wallpaper-white-marble-white-stone-texture-marble-stone-background-white-stone.jpg)\"><b><span style='color:black'> 2: Import the required libraries</span></b> </div>\n",
    "\n",
    "Here, we import the TensorFlow, TensorFlow Hub, and TensorFlow Text libraries to access the BERT model and related functionalities."
   ]
  },
  {
   "cell_type": "code",
   "execution_count": 3,
   "id": "5840e4da",
   "metadata": {
    "execution": {
     "iopub.execute_input": "2023-06-01T09:28:36.023684Z",
     "iopub.status.busy": "2023-06-01T09:28:36.023291Z",
     "iopub.status.idle": "2023-06-01T09:28:45.527184Z",
     "shell.execute_reply": "2023-06-01T09:28:45.526249Z"
    },
    "papermill": {
     "duration": 9.514779,
     "end_time": "2023-06-01T09:28:45.529926",
     "exception": false,
     "start_time": "2023-06-01T09:28:36.015147",
     "status": "completed"
    },
    "tags": []
   },
   "outputs": [
    {
     "name": "stderr",
     "output_type": "stream",
     "text": [
      "/opt/conda/lib/python3.10/site-packages/tensorflow_io/python/ops/__init__.py:98: UserWarning: unable to load libtensorflow_io_plugins.so: unable to open file: libtensorflow_io_plugins.so, from paths: ['/opt/conda/lib/python3.10/site-packages/tensorflow_io/python/ops/libtensorflow_io_plugins.so']\n",
      "caused by: ['/opt/conda/lib/python3.10/site-packages/tensorflow_io/python/ops/libtensorflow_io_plugins.so: undefined symbol: _ZN3tsl6StatusC1EN10tensorflow5error4CodeESt17basic_string_viewIcSt11char_traitsIcEENS_14SourceLocationE']\n",
      "  warnings.warn(f\"unable to load libtensorflow_io_plugins.so: {e}\")\n",
      "/opt/conda/lib/python3.10/site-packages/tensorflow_io/python/ops/__init__.py:104: UserWarning: file system plugins are not loaded: unable to open file: libtensorflow_io.so, from paths: ['/opt/conda/lib/python3.10/site-packages/tensorflow_io/python/ops/libtensorflow_io.so']\n",
      "caused by: ['/opt/conda/lib/python3.10/site-packages/tensorflow_io/python/ops/libtensorflow_io.so: undefined symbol: _ZTVN10tensorflow13GcsFileSystemE']\n",
      "  warnings.warn(f\"file system plugins are not loaded: {e}\")\n"
     ]
    }
   ],
   "source": [
    "import tensorflow as tf\n",
    "import tensorflow_hub as hub\n",
    "import tensorflow_text as text"
   ]
  },
  {
   "cell_type": "markdown",
   "id": "b599a819",
   "metadata": {
    "papermill": {
     "duration": 0.006831,
     "end_time": "2023-06-01T09:28:45.545658",
     "exception": false,
     "start_time": "2023-06-01T09:28:45.538827",
     "status": "completed"
    },
    "tags": []
   },
   "source": [
    "# <div style=\"padding: 20px;color:white;margin:10;font-size:90%;text-align:left;display:fill;border-radius:10px;overflow:hidden;background-image: url(https://w0.peakpx.com/wallpaper/957/661/HD-wallpaper-white-marble-white-stone-texture-marble-stone-background-white-stone.jpg)\"><b><span style='color:black'> 3| Define the input layer</span></b> </div>\n",
    "\n",
    "This line defines an input layer for the text data. It specifies that the input shape is an empty tensor with a string data type."
   ]
  },
  {
   "cell_type": "code",
   "execution_count": 4,
   "id": "63d33298",
   "metadata": {
    "execution": {
     "iopub.execute_input": "2023-06-01T09:28:45.562196Z",
     "iopub.status.busy": "2023-06-01T09:28:45.561435Z",
     "iopub.status.idle": "2023-06-01T09:28:45.581196Z",
     "shell.execute_reply": "2023-06-01T09:28:45.580280Z"
    },
    "papermill": {
     "duration": 0.03112,
     "end_time": "2023-06-01T09:28:45.583856",
     "exception": false,
     "start_time": "2023-06-01T09:28:45.552736",
     "status": "completed"
    },
    "tags": []
   },
   "outputs": [],
   "source": [
    "text_input = tf.keras.layers.Input(shape=(), dtype=tf.string)"
   ]
  },
  {
   "cell_type": "markdown",
   "id": "2b51be32",
   "metadata": {
    "papermill": {
     "duration": 0.006825,
     "end_time": "2023-06-01T09:28:45.597885",
     "exception": false,
     "start_time": "2023-06-01T09:28:45.591060",
     "status": "completed"
    },
    "tags": []
   },
   "source": [
    "# <div style=\"padding: 20px;color:white;margin:10;font-size:90%;text-align:left;display:fill;border-radius:10px;overflow:hidden;background-image: url(https://w0.peakpx.com/wallpaper/957/661/HD-wallpaper-white-marble-white-stone-texture-marble-stone-background-white-stone.jpg)\"><b><span style='color:black'> 4| Load the BERT preprocessor</span></b> </div>\n",
    "\n",
    "We load the BERT preprocessor from TensorFlow Hub. The preprocessor handles the text preprocessing tasks required by the BERT model, such as tokenization and input formatting."
   ]
  },
  {
   "cell_type": "code",
   "execution_count": 5,
   "id": "2e1c49c3",
   "metadata": {
    "execution": {
     "iopub.execute_input": "2023-06-01T09:28:45.613971Z",
     "iopub.status.busy": "2023-06-01T09:28:45.613548Z",
     "iopub.status.idle": "2023-06-01T09:28:48.770229Z",
     "shell.execute_reply": "2023-06-01T09:28:48.769291Z"
    },
    "papermill": {
     "duration": 3.167632,
     "end_time": "2023-06-01T09:28:48.772637",
     "exception": false,
     "start_time": "2023-06-01T09:28:45.605005",
     "status": "completed"
    },
    "tags": []
   },
   "outputs": [],
   "source": [
    "preprocessor = hub.KerasLayer(\n",
    "    \"https://tfhub.dev/tensorflow/bert_en_uncased_preprocess/3\")"
   ]
  },
  {
   "cell_type": "markdown",
   "id": "ffe0ed08",
   "metadata": {
    "papermill": {
     "duration": 0.006778,
     "end_time": "2023-06-01T09:28:48.786460",
     "exception": false,
     "start_time": "2023-06-01T09:28:48.779682",
     "status": "completed"
    },
    "tags": []
   },
   "source": [
    "# <div style=\"padding: 20px;color:white;margin:10;font-size:90%;text-align:left;display:fill;border-radius:10px;overflow:hidden;background-image: url(https://w0.peakpx.com/wallpaper/957/661/HD-wallpaper-white-marble-white-stone-texture-marble-stone-background-white-stone.jpg)\"><b><span style='color:black'> 5| Preprocess the input using the BERT preprocessor</span></b> </div>\n",
    "\n",
    "This line preprocesses the input text using the BERT preprocessor. It applies tokenization, converts the text into BERT-compatible input tensors, and returns the preprocessed input tensors."
   ]
  },
  {
   "cell_type": "code",
   "execution_count": 6,
   "id": "3e73a8ae",
   "metadata": {
    "execution": {
     "iopub.execute_input": "2023-06-01T09:28:48.802250Z",
     "iopub.status.busy": "2023-06-01T09:28:48.801578Z",
     "iopub.status.idle": "2023-06-01T09:28:49.450003Z",
     "shell.execute_reply": "2023-06-01T09:28:49.448831Z"
    },
    "papermill": {
     "duration": 0.659396,
     "end_time": "2023-06-01T09:28:49.452762",
     "exception": false,
     "start_time": "2023-06-01T09:28:48.793366",
     "status": "completed"
    },
    "tags": []
   },
   "outputs": [],
   "source": [
    "encoder_inputs = preprocessor(text_input)"
   ]
  },
  {
   "cell_type": "markdown",
   "id": "52979305",
   "metadata": {
    "papermill": {
     "duration": 0.006852,
     "end_time": "2023-06-01T09:28:49.466871",
     "exception": false,
     "start_time": "2023-06-01T09:28:49.460019",
     "status": "completed"
    },
    "tags": []
   },
   "source": [
    "# <div style=\"padding: 20px;color:white;margin:10;font-size:90%;text-align:left;display:fill;border-radius:10px;overflow:hidden;background-image: url(https://w0.peakpx.com/wallpaper/957/661/HD-wallpaper-white-marble-white-stone-texture-marble-stone-background-white-stone.jpg)\"><b><span style='color:black'> 6| Load the BERT encoder</span></b> </div>\n",
    "\n",
    "We load the BERT encoder from TensorFlow Hub. The encoder is the main BERT model responsible for generating text embeddings."
   ]
  },
  {
   "cell_type": "code",
   "execution_count": 7,
   "id": "7ce40e29",
   "metadata": {
    "execution": {
     "iopub.execute_input": "2023-06-01T09:28:49.482997Z",
     "iopub.status.busy": "2023-06-01T09:28:49.482579Z",
     "iopub.status.idle": "2023-06-01T09:29:08.516699Z",
     "shell.execute_reply": "2023-06-01T09:29:08.515523Z"
    },
    "papermill": {
     "duration": 19.0456,
     "end_time": "2023-06-01T09:29:08.519617",
     "exception": false,
     "start_time": "2023-06-01T09:28:49.474017",
     "status": "completed"
    },
    "tags": []
   },
   "outputs": [],
   "source": [
    "encoder = hub.KerasLayer(\n",
    "    \"https://tfhub.dev/tensorflow/bert_en_uncased_L-12_H-768_A-12/4\",\n",
    "    trainable=True)"
   ]
  },
  {
   "cell_type": "markdown",
   "id": "8ab631cb",
   "metadata": {
    "papermill": {
     "duration": 0.006839,
     "end_time": "2023-06-01T09:29:08.534085",
     "exception": false,
     "start_time": "2023-06-01T09:29:08.527246",
     "status": "completed"
    },
    "tags": []
   },
   "source": [
    "# <div style=\"padding: 20px;color:white;margin:10;font-size:90%;text-align:left;display:fill;border-radius:10px;overflow:hidden;background-image: url(https://w0.peakpx.com/wallpaper/957/661/HD-wallpaper-white-marble-white-stone-texture-marble-stone-background-white-stone.jpg)\"><b><span style='color:black'> 7| Pass the preprocessed inputs through the BERT encoder</span></b> </div>\n",
    "\n",
    "This line passes the preprocessed input tensors through the BERT encoder to obtain the model's outputs. The outputs include the pooled_output and sequence_output."
   ]
  },
  {
   "cell_type": "code",
   "execution_count": 8,
   "id": "ad46ac78",
   "metadata": {
    "execution": {
     "iopub.execute_input": "2023-06-01T09:29:08.549897Z",
     "iopub.status.busy": "2023-06-01T09:29:08.549488Z",
     "iopub.status.idle": "2023-06-01T09:29:08.826816Z",
     "shell.execute_reply": "2023-06-01T09:29:08.825557Z"
    },
    "papermill": {
     "duration": 0.28862,
     "end_time": "2023-06-01T09:29:08.829752",
     "exception": false,
     "start_time": "2023-06-01T09:29:08.541132",
     "status": "completed"
    },
    "tags": []
   },
   "outputs": [],
   "source": [
    "outputs = encoder(encoder_inputs)"
   ]
  },
  {
   "cell_type": "markdown",
   "id": "74de4711",
   "metadata": {
    "papermill": {
     "duration": 0.006859,
     "end_time": "2023-06-01T09:29:08.843651",
     "exception": false,
     "start_time": "2023-06-01T09:29:08.836792",
     "status": "completed"
    },
    "tags": []
   },
   "source": [
    "# <div style=\"padding: 20px;color:white;margin:10;font-size:90%;text-align:left;display:fill;border-radius:10px;overflow:hidden;background-image: url(https://w0.peakpx.com/wallpaper/957/661/HD-wallpaper-white-marble-white-stone-texture-marble-stone-background-white-stone.jpg)\"><b><span style='color:black'> 8| Extract the pooled_output and sequence_output</span></b> </div>\n",
    "\n",
    "Here, we extract the pooled_output and sequence_output from the outputs of the BERT encoder. \n",
    "\n",
    "The pooled_output represents the entire input sequence, while the sequence_output represents each token in the context of the input sequence."
   ]
  },
  {
   "cell_type": "code",
   "execution_count": 9,
   "id": "f630b70f",
   "metadata": {
    "execution": {
     "iopub.execute_input": "2023-06-01T09:29:08.860114Z",
     "iopub.status.busy": "2023-06-01T09:29:08.858965Z",
     "iopub.status.idle": "2023-06-01T09:29:08.864391Z",
     "shell.execute_reply": "2023-06-01T09:29:08.863587Z"
    },
    "papermill": {
     "duration": 0.015961,
     "end_time": "2023-06-01T09:29:08.866635",
     "exception": false,
     "start_time": "2023-06-01T09:29:08.850674",
     "status": "completed"
    },
    "tags": []
   },
   "outputs": [],
   "source": [
    "pooled_output = outputs[\"pooled_output\"]      # [batch_size, 768]\n",
    "sequence_output = outputs[\"sequence_output\"]  # [batch_size, seq_length, 768]"
   ]
  },
  {
   "cell_type": "markdown",
   "id": "05ee2cc1",
   "metadata": {
    "papermill": {
     "duration": 0.006731,
     "end_time": "2023-06-01T09:29:08.880401",
     "exception": false,
     "start_time": "2023-06-01T09:29:08.873670",
     "status": "completed"
    },
    "tags": []
   },
   "source": [
    "# <div style=\"padding: 20px;color:white;margin:10;font-size:90%;text-align:left;display:fill;border-radius:10px;overflow:hidden;background-image: url(https://w0.peakpx.com/wallpaper/957/661/HD-wallpaper-white-marble-white-stone-texture-marble-stone-background-white-stone.jpg)\"><b><span style='color:black'> 9| Define the model and compile it (optional)</span></b> </div>\n",
    "\n",
    "This step defines the model using the Keras functional API. We specify the input layer as text_input and the output layer as pooled_output. Optionally, we can compile the model by specifying an optimizer and loss function."
   ]
  },
  {
   "cell_type": "code",
   "execution_count": 10,
   "id": "6a8d68f0",
   "metadata": {
    "execution": {
     "iopub.execute_input": "2023-06-01T09:29:08.896482Z",
     "iopub.status.busy": "2023-06-01T09:29:08.896082Z",
     "iopub.status.idle": "2023-06-01T09:29:08.927805Z",
     "shell.execute_reply": "2023-06-01T09:29:08.926964Z"
    },
    "papermill": {
     "duration": 0.042777,
     "end_time": "2023-06-01T09:29:08.930332",
     "exception": false,
     "start_time": "2023-06-01T09:29:08.887555",
     "status": "completed"
    },
    "tags": []
   },
   "outputs": [],
   "source": [
    "embedding_model = tf.keras.Model(text_input, pooled_output)\n",
    "embedding_model.compile(optimizer='adam', loss='mse')"
   ]
  },
  {
   "cell_type": "markdown",
   "id": "76c815dc",
   "metadata": {
    "papermill": {
     "duration": 0.006671,
     "end_time": "2023-06-01T09:29:08.944074",
     "exception": false,
     "start_time": "2023-06-01T09:29:08.937403",
     "status": "completed"
    },
    "tags": []
   },
   "source": [
    "# <div style=\"padding: 20px;color:white;margin:10;font-size:90%;text-align:left;display:fill;border-radius:10px;overflow:hidden;background-image: url(https://w0.peakpx.com/wallpaper/957/661/HD-wallpaper-white-marble-white-stone-texture-marble-stone-background-white-stone.jpg)\"><b><span style='color:black'> 10| Use the BERT model for text embeddings</span></b> </div>\n",
    "\n",
    "we use the embedding_model to obtain text embeddings for a list of example sentences. We pass the sentences to the embedding_model and store the resulting embeddings in the embeddings variable."
   ]
  },
  {
   "cell_type": "code",
   "execution_count": 11,
   "id": "936349ad",
   "metadata": {
    "execution": {
     "iopub.execute_input": "2023-06-01T09:29:08.960281Z",
     "iopub.status.busy": "2023-06-01T09:29:08.959621Z",
     "iopub.status.idle": "2023-06-01T09:29:10.409423Z",
     "shell.execute_reply": "2023-06-01T09:29:10.408492Z"
    },
    "papermill": {
     "duration": 1.461784,
     "end_time": "2023-06-01T09:29:10.412803",
     "exception": false,
     "start_time": "2023-06-01T09:29:08.951019",
     "status": "completed"
    },
    "tags": []
   },
   "outputs": [],
   "source": [
    "sentences = tf.constant([\"Example sentence 1\", \"Example sentence 2\"])\n",
    "embeddings = embedding_model(sentences)"
   ]
  },
  {
   "cell_type": "markdown",
   "id": "c35e4c92",
   "metadata": {
    "papermill": {
     "duration": 0.006801,
     "end_time": "2023-06-01T09:29:10.426697",
     "exception": false,
     "start_time": "2023-06-01T09:29:10.419896",
     "status": "completed"
    },
    "tags": []
   },
   "source": [
    "# <div style=\"padding: 20px;color:white;margin:10;font-size:90%;text-align:left;display:fill;border-radius:10px;overflow:hidden;background-image: url(https://w0.peakpx.com/wallpaper/957/661/HD-wallpaper-white-marble-white-stone-texture-marble-stone-background-white-stone.jpg)\"><b><span style='color:black'> 11| Print the embeddings</span></b> </div>\n",
    "\n",
    "Finally, we print the obtained text embeddings to inspect the results. \n",
    "\n",
    "The embeddings variable contains the text embeddings for the example sentences, which can be further processed or used for downstream tasks."
   ]
  },
  {
   "cell_type": "code",
   "execution_count": 12,
   "id": "37b632e5",
   "metadata": {
    "execution": {
     "iopub.execute_input": "2023-06-01T09:29:10.443238Z",
     "iopub.status.busy": "2023-06-01T09:29:10.442257Z",
     "iopub.status.idle": "2023-06-01T09:29:10.450116Z",
     "shell.execute_reply": "2023-06-01T09:29:10.448886Z"
    },
    "papermill": {
     "duration": 0.018582,
     "end_time": "2023-06-01T09:29:10.452355",
     "exception": false,
     "start_time": "2023-06-01T09:29:10.433773",
     "status": "completed"
    },
    "tags": []
   },
   "outputs": [
    {
     "name": "stdout",
     "output_type": "stream",
     "text": [
      "tf.Tensor(\n",
      "[[-0.88612574 -0.29601166  0.14619148 ... -0.37177682 -0.5755334\n",
      "   0.8968955 ]\n",
      " [-0.90233845 -0.36567786 -0.1433136  ... -0.5138184  -0.6224613\n",
      "   0.9048833 ]], shape=(2, 768), dtype=float32)\n"
     ]
    }
   ],
   "source": [
    "print(embeddings)"
   ]
  }
 ],
 "metadata": {
  "kernelspec": {
   "display_name": "Python 3",
   "language": "python",
   "name": "python3"
  },
  "language_info": {
   "codemirror_mode": {
    "name": "ipython",
    "version": 3
   },
   "file_extension": ".py",
   "mimetype": "text/x-python",
   "name": "python",
   "nbconvert_exporter": "python",
   "pygments_lexer": "ipython3",
   "version": "3.10.10"
  },
  "papermill": {
   "default_parameters": {},
   "duration": 50.682758,
   "end_time": "2023-06-01T09:29:13.535160",
   "environment_variables": {},
   "exception": null,
   "input_path": "__notebook__.ipynb",
   "output_path": "__notebook__.ipynb",
   "parameters": {},
   "start_time": "2023-06-01T09:28:22.852402",
   "version": "2.4.0"
  }
 },
 "nbformat": 4,
 "nbformat_minor": 5
}
